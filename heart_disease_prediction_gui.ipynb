{
 "cells": [
  {
   "cell_type": "code",
   "execution_count": 1,
   "id": "f3e7967c-ffa7-45c2-bda1-3803b4815b9b",
   "metadata": {},
   "outputs": [],
   "source": [
    "#importing libraries\n",
    "import tkinter as tk\n",
    "from tkinter import messagebox\n",
    "import numpy as np\n",
    "import pickle"
   ]
  },
  {
   "cell_type": "code",
   "execution_count": 2,
   "id": "3c404756-10d1-4b3d-91f5-14db51a51971",
   "metadata": {},
   "outputs": [],
   "source": [
    "# Loading the model\n",
    "with open('heart_model.pkl', 'rb') as f:\n",
    "    model = pickle.load(f)\n",
    "\n",
    "def predict():\n",
    "    try:\n",
    "        inputs = [\n",
    "            int(age_entry.get()),\n",
    "            int(sex_entry.get()),\n",
    "            int(cp_entry.get()),\n",
    "            int(trestbps_entry.get()),\n",
    "            int(chol_entry.get()),\n",
    "            int(fbs_entry.get()),\n",
    "            int(restecg_entry.get()),\n",
    "            int(thalach_entry.get()),\n",
    "            int(exang_entry.get()),\n",
    "            float(oldpeak_entry.get()),\n",
    "            int(slope_entry.get())\n",
    "        ]\n",
    "        features = np.array([inputs])\n",
    "        result = model.predict(features)[0]\n",
    "        if result == 1:\n",
    "            messagebox.showinfo(\"Prediction\", \"⚠️ The person is likely to have heart disease.\")\n",
    "        else:\n",
    "            messagebox.showinfo(\"Prediction\", \"✅ The person is unlikely to have heart disease.\")\n",
    "    except:\n",
    "        messagebox.showerror(\"Error\", \"Invalid input or missing field.\")\n"
   ]
  },
  {
   "cell_type": "code",
   "execution_count": 3,
   "id": "35957ded-2154-481e-b8d5-de49abeef15f",
   "metadata": {},
   "outputs": [
    {
     "name": "stderr",
     "output_type": "stream",
     "text": [
      "F:\\Anaconda\\Lib\\site-packages\\sklearn\\base.py:493: UserWarning: X does not have valid feature names, but LogisticRegression was fitted with feature names\n",
      "  warnings.warn(\n",
      "F:\\Anaconda\\Lib\\site-packages\\sklearn\\base.py:493: UserWarning: X does not have valid feature names, but LogisticRegression was fitted with feature names\n",
      "  warnings.warn(\n",
      "F:\\Anaconda\\Lib\\site-packages\\sklearn\\base.py:493: UserWarning: X does not have valid feature names, but LogisticRegression was fitted with feature names\n",
      "  warnings.warn(\n",
      "F:\\Anaconda\\Lib\\site-packages\\sklearn\\base.py:493: UserWarning: X does not have valid feature names, but LogisticRegression was fitted with feature names\n",
      "  warnings.warn(\n"
     ]
    }
   ],
   "source": [
    "# GUI Layout\n",
    "root = tk.Tk()\n",
    "root.title(\"Heart Disease Predictor\")\n",
    "root.geometry(\"400x600\")\n",
    "\n",
    "fields = [\n",
    "    'Age', 'Sex (1=Male, 0=Female)', 'Chest Pain Type (0-3)',\n",
    "    'Resting BP', 'Cholesterol', 'Fasting Blood Sugar (1/0)',\n",
    "    'Rest ECG (0-2)', 'Max Heart Rate', 'Exercise Angina (1/0)',\n",
    "    'Oldpeak', 'Slope (0-2)'\n",
    "]\n",
    "\n",
    "entries = []\n",
    "for field in fields:\n",
    "    lbl = tk.Label(root, text=field)\n",
    "    lbl.pack()\n",
    "    ent = tk.Entry(root)\n",
    "    ent.pack()\n",
    "    entries.append(ent)\n",
    "\n",
    "age_entry, sex_entry, cp_entry, trestbps_entry, chol_entry, fbs_entry, restecg_entry, thalach_entry, exang_entry, oldpeak_entry, slope_entry = entries\n",
    "\n",
    "tk.Button(root, text=\"Predict\", command=predict, bg='green', fg='white').pack(pady=20)\n",
    "\n",
    "root.mainloop()"
   ]
  }
 ],
 "metadata": {
  "kernelspec": {
   "display_name": "Python 3 (ipykernel)",
   "language": "python",
   "name": "python3"
  },
  "language_info": {
   "codemirror_mode": {
    "name": "ipython",
    "version": 3
   },
   "file_extension": ".py",
   "mimetype": "text/x-python",
   "name": "python",
   "nbconvert_exporter": "python",
   "pygments_lexer": "ipython3",
   "version": "3.12.4"
  }
 },
 "nbformat": 4,
 "nbformat_minor": 5
}
